{
 "cells": [
  {
   "cell_type": "code",
   "execution_count": 1,
   "metadata": {},
   "outputs": [
    {
     "name": "stdout",
     "output_type": "stream",
     "text": [
      "Please enter DataJoint username: root\n",
      "Please enter DataJoint password: ········\n",
      "Connecting root@localhost:3306\n"
     ]
    }
   ],
   "source": [
    "from ScanImageTiffReader import ScanImageTiffReader\n",
    "import numpy as np\n",
    "import platform\n",
    "import scanreader\n",
    "import re\n",
    "import sys\n",
    "sys.path.append(\"..\")\n",
    "from schemas_python import lab, acquisition, imaging\n",
    "import os\n",
    "import glob\n",
    "from os import path"
   ]
  },
  {
   "cell_type": "code",
   "execution_count": 5,
   "metadata": {},
   "outputs": [
    {
     "data": {
      "text/html": [
       "\n",
       "        \n",
       "        <style type=\"text/css\">\n",
       "            .Relation{\n",
       "                border-collapse:collapse;\n",
       "            }\n",
       "            .Relation th{\n",
       "                background: #A0A0A0; color: #ffffff; padding:4px; border:#f0e0e0 1px solid;\n",
       "                font-weight: normal; font-family: monospace; font-size: 100%;\n",
       "            }\n",
       "            .Relation td{\n",
       "                padding:4px; border:#f0e0e0 1px solid; font-size:100%;\n",
       "            }\n",
       "            .Relation tr:nth-child(odd){\n",
       "                background: #ffffff;\n",
       "            }\n",
       "            .Relation tr:nth-child(even){\n",
       "                background: #f3f1ff;\n",
       "            }\n",
       "            /* Tooltip container */\n",
       "            .djtooltip {\n",
       "            }\n",
       "            /* Tooltip text */\n",
       "            .djtooltip .djtooltiptext {\n",
       "                visibility: hidden;\n",
       "                width: 120px;\n",
       "                background-color: black;\n",
       "                color: #fff;\n",
       "                text-align: center;\n",
       "                padding: 5px 0;\n",
       "                border-radius: 6px;\n",
       "                /* Position the tooltip text - see examples below! */\n",
       "                position: absolute;\n",
       "                z-index: 1;\n",
       "            }\n",
       "            #primary {\n",
       "                font-weight: bold;\n",
       "                color: black;\n",
       "            }\n",
       "\n",
       "            #nonprimary {\n",
       "                font-weight: normal;\n",
       "                color: white;\n",
       "            }\n",
       "\n",
       "            /* Show the tooltip text when you mouse over the tooltip container */\n",
       "            .djtooltip:hover .djtooltiptext {\n",
       "                visibility: visible;\n",
       "            }\n",
       "        </style>\n",
       "        \n",
       "        <b></b>\n",
       "            <div style=\"max-height:1000px;max-width:1500px;overflow:auto;\">\n",
       "            <table border=\"1\" class=\"Relation\">\n",
       "                <thead> <tr style=\"text-align: right;\"> <th> <div class=\"djtooltip\">\n",
       "                                <p id=\"primary\">user_id</p>\n",
       "                                <span class=\"djtooltiptext\">username</span>\n",
       "                            </div></th><th><div class=\"djtooltip\">\n",
       "                                <p id=\"primary\">subject_id</p>\n",
       "                                <span class=\"djtooltiptext\">nickname</span>\n",
       "                            </div></th><th><div class=\"djtooltip\">\n",
       "                                <p id=\"primary\">session_date</p>\n",
       "                                <span class=\"djtooltiptext\">date of experiment</span>\n",
       "                            </div></th><th><div class=\"djtooltip\">\n",
       "                                <p id=\"primary\">session_number</p>\n",
       "                                <span class=\"djtooltiptext\">number</span>\n",
       "                            </div></th><th><div class=\"djtooltip\">\n",
       "                                <p id=\"nonprimary\">session_start_time</p>\n",
       "                                <span class=\"djtooltiptext\">start time</span>\n",
       "                            </div></th><th><div class=\"djtooltip\">\n",
       "                                <p id=\"nonprimary\">session_end_time</p>\n",
       "                                <span class=\"djtooltiptext\">end time</span>\n",
       "                            </div></th><th><div class=\"djtooltip\">\n",
       "                                <p id=\"nonprimary\">location</p>\n",
       "                                <span class=\"djtooltiptext\"></span>\n",
       "                            </div></th><th><div class=\"djtooltip\">\n",
       "                                <p id=\"nonprimary\">task</p>\n",
       "                                <span class=\"djtooltiptext\"></span>\n",
       "                            </div></th><th><div class=\"djtooltip\">\n",
       "                                <p id=\"nonprimary\">level</p>\n",
       "                                <span class=\"djtooltiptext\">difficulty level</span>\n",
       "                            </div></th><th><div class=\"djtooltip\">\n",
       "                                <p id=\"nonprimary\">set_id</p>\n",
       "                                <span class=\"djtooltiptext\">parameter_set_id</span>\n",
       "                            </div></th><th><div class=\"djtooltip\">\n",
       "                                <p id=\"nonprimary\">stimulus_bank</p>\n",
       "                                <span class=\"djtooltiptext\">path to the function to generate the stimulus</span>\n",
       "                            </div></th><th><div class=\"djtooltip\">\n",
       "                                <p id=\"nonprimary\">stimulus_commit</p>\n",
       "                                <span class=\"djtooltiptext\">git hash for the version of the function</span>\n",
       "                            </div></th><th><div class=\"djtooltip\">\n",
       "                                <p id=\"nonprimary\">stimulus_set</p>\n",
       "                                <span class=\"djtooltiptext\">an integer that describes a particular set of stimuli in a trial</span>\n",
       "                            </div></th><th><div class=\"djtooltip\">\n",
       "                                <p id=\"nonprimary\">ball_squal</p>\n",
       "                                <span class=\"djtooltiptext\">quality measure of ball data</span>\n",
       "                            </div></th><th><div class=\"djtooltip\">\n",
       "                                <p id=\"nonprimary\">session_performance</p>\n",
       "                                <span class=\"djtooltiptext\">percentage correct on this session</span>\n",
       "                            </div></th><th><div class=\"djtooltip\">\n",
       "                                <p id=\"nonprimary\">session_narrative</p>\n",
       "                                <span class=\"djtooltiptext\"></span>\n",
       "                            </div> </th> </tr> </thead>\n",
       "                <tbody> <tr> <td>edward</td>\n",
       "<td>E18</td>\n",
       "<td>2017-08-03</td>\n",
       "<td>0</td>\n",
       "<td>2017-08-03 11:47:00</td>\n",
       "<td>2017-08-03 12:45:00</td>\n",
       "<td>TrainVR4</td>\n",
       "<td>Towers</td>\n",
       "<td>5</td>\n",
       "<td>1</td>\n",
       "<td></td>\n",
       "<td></td>\n",
       "<td>1</td>\n",
       "<td>72.1</td>\n",
       "<td>54.4</td>\n",
       "<td></td></tr><tr><td>edward</td>\n",
       "<td>E18</td>\n",
       "<td>2017-08-04</td>\n",
       "<td>0</td>\n",
       "<td>2017-08-04 12:21:00</td>\n",
       "<td>2017-08-04 13:26:00</td>\n",
       "<td>TrainVR4</td>\n",
       "<td>Towers</td>\n",
       "<td>5</td>\n",
       "<td>1</td>\n",
       "<td></td>\n",
       "<td></td>\n",
       "<td>1</td>\n",
       "<td>77.7</td>\n",
       "<td>45.2</td>\n",
       "<td></td></tr><tr><td>edward</td>\n",
       "<td>E18</td>\n",
       "<td>2017-08-08</td>\n",
       "<td>0</td>\n",
       "<td>2017-08-08 11:49:00</td>\n",
       "<td>2017-08-08 12:50:00</td>\n",
       "<td>TrainVR4</td>\n",
       "<td>Towers</td>\n",
       "<td>5</td>\n",
       "<td>1</td>\n",
       "<td></td>\n",
       "<td></td>\n",
       "<td>1</td>\n",
       "<td>73.7</td>\n",
       "<td>50.4</td>\n",
       "<td></td></tr><tr><td>edward</td>\n",
       "<td>E18</td>\n",
       "<td>2017-08-09</td>\n",
       "<td>0</td>\n",
       "<td>2017-08-09 12:00:00</td>\n",
       "<td>2017-08-09 13:00:00</td>\n",
       "<td>TrainVR4</td>\n",
       "<td>Towers</td>\n",
       "<td>5</td>\n",
       "<td>1</td>\n",
       "<td></td>\n",
       "<td></td>\n",
       "<td>1</td>\n",
       "<td>73.1</td>\n",
       "<td>53.9</td>\n",
       "<td></td></tr><tr><td>edward</td>\n",
       "<td>E18</td>\n",
       "<td>2017-08-10</td>\n",
       "<td>0</td>\n",
       "<td>2017-08-10 12:25:00</td>\n",
       "<td>2017-08-10 13:25:00</td>\n",
       "<td>TrainVR4</td>\n",
       "<td>Towers</td>\n",
       "<td>5</td>\n",
       "<td>1</td>\n",
       "<td></td>\n",
       "<td></td>\n",
       "<td>1</td>\n",
       "<td>76.0</td>\n",
       "<td>66.2</td>\n",
       "<td></td></tr><tr><td>edward</td>\n",
       "<td>E18</td>\n",
       "<td>2017-08-11</td>\n",
       "<td>0</td>\n",
       "<td>2017-08-11 12:22:00</td>\n",
       "<td>2017-08-11 13:18:00</td>\n",
       "<td>TrainVR4</td>\n",
       "<td>Towers</td>\n",
       "<td>5</td>\n",
       "<td>1</td>\n",
       "<td></td>\n",
       "<td></td>\n",
       "<td>1</td>\n",
       "<td>77.2</td>\n",
       "<td>58.7</td>\n",
       "<td></td></tr><tr><td>edward</td>\n",
       "<td>E18</td>\n",
       "<td>2017-08-12</td>\n",
       "<td>0</td>\n",
       "<td>2017-08-12 13:00:00</td>\n",
       "<td>2017-08-12 13:58:00</td>\n",
       "<td>TrainVR4</td>\n",
       "<td>Towers</td>\n",
       "<td>5</td>\n",
       "<td>1</td>\n",
       "<td></td>\n",
       "<td></td>\n",
       "<td>1</td>\n",
       "<td>79.5</td>\n",
       "<td>65.2</td>\n",
       "<td></td></tr><tr><td>edward</td>\n",
       "<td>E26</td>\n",
       "<td>2017-08-03</td>\n",
       "<td>0</td>\n",
       "<td>2017-08-03 11:40:00</td>\n",
       "<td>2017-08-03 12:39:00</td>\n",
       "<td>VRTrain7</td>\n",
       "<td>Towers</td>\n",
       "<td>7</td>\n",
       "<td>1</td>\n",
       "<td></td>\n",
       "<td></td>\n",
       "<td>1</td>\n",
       "<td>49.8</td>\n",
       "<td>54.4</td>\n",
       "<td></td></tr><tr><td>edward</td>\n",
       "<td>E26</td>\n",
       "<td>2017-08-04</td>\n",
       "<td>0</td>\n",
       "<td>2017-08-04 12:10:00</td>\n",
       "<td>2017-08-04 13:10:00</td>\n",
       "<td>VRTrain7</td>\n",
       "<td>Towers</td>\n",
       "<td>7</td>\n",
       "<td>1</td>\n",
       "<td></td>\n",
       "<td></td>\n",
       "<td>1</td>\n",
       "<td>47.9</td>\n",
       "<td>44.3</td>\n",
       "<td></td></tr><tr><td>edward</td>\n",
       "<td>E26</td>\n",
       "<td>2017-08-08</td>\n",
       "<td>0</td>\n",
       "<td>2017-08-08 11:44:00</td>\n",
       "<td>2017-08-08 12:45:00</td>\n",
       "<td>VRTrain7</td>\n",
       "<td>Towers</td>\n",
       "<td>7</td>\n",
       "<td>1</td>\n",
       "<td></td>\n",
       "<td></td>\n",
       "<td>1</td>\n",
       "<td>55.9</td>\n",
       "<td>40.9</td>\n",
       "<td></td></tr><tr><td>edward</td>\n",
       "<td>E26</td>\n",
       "<td>2017-08-09</td>\n",
       "<td>0</td>\n",
       "<td>2017-08-09 11:55:00</td>\n",
       "<td>2017-08-09 12:55:00</td>\n",
       "<td>VRTrain7</td>\n",
       "<td>Towers</td>\n",
       "<td>7</td>\n",
       "<td>1</td>\n",
       "<td></td>\n",
       "<td></td>\n",
       "<td>1</td>\n",
       "<td>58.1</td>\n",
       "<td>49.4</td>\n",
       "<td></td></tr><tr><td>edward</td>\n",
       "<td>E26</td>\n",
       "<td>2017-08-10</td>\n",
       "<td>0</td>\n",
       "<td>2017-08-10 12:20:00</td>\n",
       "<td>2017-08-10 13:21:00</td>\n",
       "<td>VRTrain7</td>\n",
       "<td>Towers</td>\n",
       "<td>7</td>\n",
       "<td>1</td>\n",
       "<td></td>\n",
       "<td></td>\n",
       "<td>1</td>\n",
       "<td>56.1</td>\n",
       "<td>45.9</td>\n",
       "<td></td> </tr> </tbody>\n",
       "            </table>\n",
       "            <p>...</p>\n",
       "            <p>Total: 3102</p></div>\n",
       "            "
      ],
      "text/plain": [
       "*user_id    *subject_id    *session_date  *session_numbe session_start_ session_end_ti location     task       level     set_id     stimulus_bank  stimulus_commi stimulus_set   ball_squal     session_perfor session_narrat\n",
       "+---------+ +------------+ +------------+ +------------+ +------------+ +------------+ +----------+ +--------+ +-------+ +--------+ +------------+ +------------+ +------------+ +------------+ +------------+ +------------+\n",
       "edward      E18            2017-08-03     0              2017-08-03 11: 2017-08-03 12: TrainVR4     Towers     5         1                                        1              72.1           54.4                         \n",
       "edward      E18            2017-08-04     0              2017-08-04 12: 2017-08-04 13: TrainVR4     Towers     5         1                                        1              77.7           45.2                         \n",
       "edward      E18            2017-08-08     0              2017-08-08 11: 2017-08-08 12: TrainVR4     Towers     5         1                                        1              73.7           50.4                         \n",
       "edward      E18            2017-08-09     0              2017-08-09 12: 2017-08-09 13: TrainVR4     Towers     5         1                                        1              73.1           53.9                         \n",
       "edward      E18            2017-08-10     0              2017-08-10 12: 2017-08-10 13: TrainVR4     Towers     5         1                                        1              76.0           66.2                         \n",
       "edward      E18            2017-08-11     0              2017-08-11 12: 2017-08-11 13: TrainVR4     Towers     5         1                                        1              77.2           58.7                         \n",
       "edward      E18            2017-08-12     0              2017-08-12 13: 2017-08-12 13: TrainVR4     Towers     5         1                                        1              79.5           65.2                         \n",
       "edward      E26            2017-08-03     0              2017-08-03 11: 2017-08-03 12: VRTrain7     Towers     7         1                                        1              49.8           54.4                         \n",
       "edward      E26            2017-08-04     0              2017-08-04 12: 2017-08-04 13: VRTrain7     Towers     7         1                                        1              47.9           44.3                         \n",
       "edward      E26            2017-08-08     0              2017-08-08 11: 2017-08-08 12: VRTrain7     Towers     7         1                                        1              55.9           40.9                         \n",
       "edward      E26            2017-08-09     0              2017-08-09 11: 2017-08-09 12: VRTrain7     Towers     7         1                                        1              58.1           49.4                         \n",
       "edward      E26            2017-08-10     0              2017-08-10 12: 2017-08-10 13: VRTrain7     Towers     7         1                                        1              56.1           45.9                         \n",
       "   ...\n",
       " (Total: 3102)"
      ]
     },
     "execution_count": 5,
     "metadata": {},
     "output_type": "execute_result"
    }
   ],
   "source": [
    "acquisition.Session() & 'user_id=\"edward\"'"
   ]
  },
  {
   "cell_type": "code",
   "execution_count": 3,
   "metadata": {},
   "outputs": [
    {
     "name": "stdout",
     "output_type": "stream",
     "text": [
      "About to delete:\n",
      "`pni_acquisition`.`_scan__file`: 591 items\n",
      "`pni_acquisition`.`_scan`: 23 items\n",
      "Proceed? [yes, No]: yes\n",
      "Committed.\n"
     ]
    }
   ],
   "source": [
    "acquisition.Scan.delete()"
   ]
  },
  {
   "cell_type": "code",
   "execution_count": null,
   "metadata": {},
   "outputs": [
    {
     "name": "stderr",
     "output_type": "stream",
     "text": [
      "\r",
      "  0%|          | 0/2 [00:00<?, ?it/s]"
     ]
    }
   ],
   "source": [
    "acquisition.ScanInfo.populate('user_id=\"edward\"', 'subject_id=\"E44\"', 'session_date> \"2017-08-24\"', display_progress=True)"
   ]
  },
  {
   "cell_type": "code",
   "execution_count": null,
   "metadata": {},
   "outputs": [],
   "source": []
  },
  {
   "cell_type": "code",
   "execution_count": 1,
   "metadata": {},
   "outputs": [],
   "source": [
    "import datajoint as dj"
   ]
  },
  {
   "cell_type": "code",
   "execution_count": 4,
   "metadata": {},
   "outputs": [
    {
     "data": {
      "text/plain": [
       "'Z:/RigData/training/'"
      ]
     },
     "execution_count": 4,
     "metadata": {},
     "output_type": "execute_result"
    }
   ],
   "source": [
    "lab.Path().get_local_path('/braininit/RigData/training/', local_os='win')"
   ]
  },
  {
   "cell_type": "code",
   "execution_count": 5,
   "metadata": {},
   "outputs": [
    {
     "data": {
      "text/plain": [
       "'/bin/x/y'"
      ]
     },
     "execution_count": 5,
     "metadata": {},
     "output_type": "execute_result"
    }
   ],
   "source": [
    "path.join('/bin', 'x', 'y')"
   ]
  },
  {
   "cell_type": "code",
   "execution_count": 7,
   "metadata": {},
   "outputs": [
    {
     "data": {
      "text/plain": [
       "<generator object walk at 0x11ca68480>"
      ]
     },
     "execution_count": 7,
     "metadata": {},
     "output_type": "execute_result"
    }
   ],
   "source": [
    "os.walk('/Volumes/bezos/RigData/scope/bay3/edward/*/imaging/E1/20170203')"
   ]
  },
  {
   "cell_type": "code",
   "execution_count": 4,
   "metadata": {},
   "outputs": [
    {
     "data": {
      "text/plain": [
       "['/Volumes/bezos/RigData/scope/bay3/edward/PoissonTowers_2/imaging/E44/20170825']"
      ]
     },
     "execution_count": 4,
     "metadata": {},
     "output_type": "execute_result"
    }
   ],
   "source": [
    "path = '/Volumes/bezos/RigData/scope/bay3/edward/*/imaging/E44/20170825'\n",
    "glob.glob(path)"
   ]
  },
  {
   "cell_type": "code",
   "execution_count": 7,
   "metadata": {},
   "outputs": [],
   "source": [
    "f = '/Volumes/bezos/RigData/scope/bay3/edward/PoissonTowers_1/imaging/E22/20170203/E22_20170203_30per_00001_00003.tif'"
   ]
  },
  {
   "cell_type": "code",
   "execution_count": 8,
   "metadata": {},
   "outputs": [],
   "source": [
    "import re"
   ]
  },
  {
   "cell_type": "code",
   "execution_count": 9,
   "metadata": {},
   "outputs": [],
   "source": [
    "subj = 'E22'"
   ]
  },
  {
   "cell_type": "code",
   "execution_count": 12,
   "metadata": {},
   "outputs": [],
   "source": [
    "x = re.search('{}.*tif'.format(subj),f)"
   ]
  },
  {
   "cell_type": "code",
   "execution_count": 13,
   "metadata": {},
   "outputs": [
    {
     "data": {
      "text/plain": [
       "'E22/20170203/E22_20170203_30per_00001_00003.tif'"
      ]
     },
     "execution_count": 13,
     "metadata": {},
     "output_type": "execute_result"
    }
   ],
   "source": [
    "x.group(0)"
   ]
  },
  {
   "cell_type": "code",
   "execution_count": 84,
   "metadata": {},
   "outputs": [],
   "source": [
    "y = re.search('[0-9][0-9]', x.group(0))"
   ]
  },
  {
   "cell_type": "code",
   "execution_count": 86,
   "metadata": {},
   "outputs": [
    {
     "data": {
      "text/plain": [
       "19"
      ]
     },
     "execution_count": 86,
     "metadata": {},
     "output_type": "execute_result"
    }
   ],
   "source": [
    "int(re.split(r'\\.', x.group(0))[0])"
   ]
  },
  {
   "cell_type": "code",
   "execution_count": 72,
   "metadata": {},
   "outputs": [
    {
     "data": {
      "text/plain": [
       "'00019.tif'"
      ]
     },
     "execution_count": 72,
     "metadata": {},
     "output_type": "execute_result"
    }
   ],
   "source": [
    "x.group(0).replace('_', '')"
   ]
  },
  {
   "cell_type": "code",
   "execution_count": 74,
   "metadata": {},
   "outputs": [
    {
     "data": {
      "text/plain": [
       "'_19.tif'"
      ]
     },
     "execution_count": 74,
     "metadata": {},
     "output_type": "execute_result"
    }
   ],
   "source": [
    "x.group(0).replace('0', '')"
   ]
  },
  {
   "cell_type": "code",
   "execution_count": null,
   "metadata": {},
   "outputs": [],
   "source": [
    "for root, dirs, files in os.walk(path):\n",
    "    if name in files:\n",
    "        print(os.path.join(root, name))"
   ]
  },
  {
   "cell_type": "code",
   "execution_count": 1,
   "metadata": {},
   "outputs": [
    {
     "ename": "NameError",
     "evalue": "name 'platform' is not defined",
     "output_type": "error",
     "traceback": [
      "\u001b[0;31m---------------------------------------------------------------------------\u001b[0m",
      "\u001b[0;31mNameError\u001b[0m                                 Traceback (most recent call last)",
      "\u001b[0;32m<ipython-input-1-a7bf3d18f8f7>\u001b[0m in \u001b[0;36m<module>\u001b[0;34m\u001b[0m\n\u001b[0;32m----> 1\u001b[0;31m \u001b[0mplatform\u001b[0m\u001b[0;34m.\u001b[0m\u001b[0msystem\u001b[0m\u001b[0;34m(\u001b[0m\u001b[0;34m)\u001b[0m\u001b[0;34m\u001b[0m\u001b[0;34m\u001b[0m\u001b[0m\n\u001b[0m",
      "\u001b[0;31mNameError\u001b[0m: name 'platform' is not defined"
     ]
    }
   ],
   "source": [
    "platform.system()"
   ]
  },
  {
   "cell_type": "code",
   "execution_count": 4,
   "metadata": {},
   "outputs": [],
   "source": [
    "filepath = '/Users/shanshen/Documents/princeton_imaging_data/20170203/E22_20170203_30per_00001_00015.tif'"
   ]
  },
  {
   "cell_type": "code",
   "execution_count": 93,
   "metadata": {},
   "outputs": [],
   "source": [
    "t = ScanImageTiffReader(filepath)"
   ]
  },
  {
   "cell_type": "code",
   "execution_count": 98,
   "metadata": {},
   "outputs": [
    {
     "data": {
      "text/plain": [
       "[3000, 512, 512]"
      ]
     },
     "execution_count": 98,
     "metadata": {},
     "output_type": "execute_result"
    }
   ],
   "source": [
    "t.shape()"
   ]
  },
  {
   "cell_type": "code",
   "execution_count": 86,
   "metadata": {},
   "outputs": [],
   "source": [
    "t2 = scanreader.read_scan(filepath)"
   ]
  },
  {
   "cell_type": "code",
   "execution_count": 108,
   "metadata": {},
   "outputs": [
    {
     "data": {
      "text/plain": [
       "0.9"
      ]
     },
     "execution_count": 108,
     "metadata": {},
     "output_type": "execute_result"
    }
   ],
   "source": [
    "t2.spatial_fill_fraction"
   ]
  },
  {
   "cell_type": "code",
   "execution_count": 7,
   "metadata": {},
   "outputs": [],
   "source": [
    "re.split?"
   ]
  },
  {
   "cell_type": "code",
   "execution_count": 10,
   "metadata": {},
   "outputs": [],
   "source": [
    "s = repr(t.description(0))\n",
    "fields = s.split('\\\\')"
   ]
  },
  {
   "cell_type": "code",
   "execution_count": 28,
   "metadata": {},
   "outputs": [
    {
     "data": {
      "text/plain": [
       "['\"frameNumbers = 42001',\n",
       " 'nacquisitionNumbers = 1',\n",
       " 'nframeNumberAcquisition = 42001',\n",
       " 'nframeTimestamps_sec = 1457.335632000',\n",
       " 'nacqTriggerTimestamps_sec = -0.000025625',\n",
       " 'nnextFileMarkerTimestamps_sec = -1.000000000',\n",
       " 'nendOfAcquisition = 0',\n",
       " 'nendOfAcquisitionMode = 0',\n",
       " 'ndcOverVoltage = 0',\n",
       " 'nepoch = [2017  2  3 14 32 32.236]',\n",
       " 'nauxTrigger0 = []',\n",
       " 'nauxTrigger1 = []',\n",
       " 'nauxTrigger2 = []',\n",
       " 'nauxTrigger3 = []',\n",
       " 'nI2CData = {{1457.342057065, [4 0 23 0 100 6 ]} {1457.354030250, [4 0 23 0 101 6 ]} {1457.366035375, [4 0 23 0 102 6 ]} }',\n",
       " 'nscanimage.SI.TIFF_FORMAT_VERSION = 1',\n",
       " \"nscanimage.SI.VERSION_MAJOR = '5.1'\",\n",
       " \"nscanimage.SI.VERSION_MINOR = '0'\",\n",
       " 'nscanimage.SI.acqInitDone = false',\n",
       " \"nscanimage.SI.acqState = 'grab'\",\n",
       " 'nscanimage.SI.acqsPerLoop = 1',\n",
       " 'nscanimage.SI.active = false',\n",
       " 'nscanimage.SI.extTrigEnable = false',\n",
       " 'nscanimage.SI.focusDuration = Inf',\n",
       " 'nscanimage.SI.hBeams.active = false',\n",
       " 'nscanimage.SI.hBeams.directMode = false',\n",
       " 'nscanimage.SI.hBeams.enablePowerBox = false',\n",
       " 'nscanimage.SI.hBeams.flybackBlanking = true',\n",
       " 'nscanimage.SI.hBeams.interlaceDecimation = 1',\n",
       " 'nscanimage.SI.hBeams.interlaceOffset = 0',\n",
       " 'nscanimage.SI.hBeams.lengthConstants = Inf',\n",
       " 'nscanimage.SI.hBeams.powerBoxEndFrame = Inf',\n",
       " 'nscanimage.SI.hBeams.powerBoxStartFrame = 1',\n",
       " 'nscanimage.SI.hBeams.powerBoxes.rect = [0.25 0.25 0.5 0.5]',\n",
       " 'nscanimage.SI.hBeams.powerBoxes.powers = NaN',\n",
       " \"nscanimage.SI.hBeams.powerBoxes.name = ''\",\n",
       " 'nscanimage.SI.hBeams.powerBoxes.oddLines = true',\n",
       " 'nscanimage.SI.hBeams.powerBoxes.evenLines = true',\n",
       " 'nscanimage.SI.hBeams.powerLimits = 100',\n",
       " \"nscanimage.SI.hBeams.powerUnits = 'percent'\",\n",
       " 'nscanimage.SI.hBeams.powers = 30',\n",
       " 'nscanimage.SI.hBeams.pzAdjust = false',\n",
       " 'nscanimage.SI.hBeams.stackEndPower = NaN',\n",
       " 'nscanimage.SI.hBeams.stackStartPower = NaN',\n",
       " 'nscanimage.SI.hBeams.stackUseStartPower = false',\n",
       " 'nscanimage.SI.hBeams.stackUserOverrideLz = false',\n",
       " 'nscanimage.SI.hChannels.active = false',\n",
       " 'nscanimage.SI.hChannels.channelAdcResolution = {14 14}',\n",
       " 'nscanimage.SI.hChannels.channelAvailableInputRanges = {[-1 1] [-0.5 0.5] [-0.25 0.25]}',\n",
       " 'nscanimage.SI.hChannels.channelDisplay = [1;2]',\n",
       " \"nscanimage.SI.hChannels.channelDisplayFunction = {'displayStripe' 'displayStripe'}\",\n",
       " 'nscanimage.SI.hChannels.channelInputRange = {[-0.25 0.25] [-0.25 0.25]}',\n",
       " 'nscanimage.SI.hChannels.channelLUT = {[-345 1480] [-285 399]}',\n",
       " \"nscanimage.SI.hChannels.channelMergeColor = {'green';'red'}\",\n",
       " \"nscanimage.SI.hChannels.channelName = {'Channel 1' 'Channel 2'}\",\n",
       " 'nscanimage.SI.hChannels.channelOffset = [-292 -283]',\n",
       " 'nscanimage.SI.hChannels.channelSave = 1',\n",
       " 'nscanimage.SI.hChannels.channelSubtractOffset = [false false]',\n",
       " \"nscanimage.SI.hChannels.channelType = {'stripe' 'stripe'}\",\n",
       " 'nscanimage.SI.hChannels.channels = {}',\n",
       " 'nscanimage.SI.hChannels.channelsActive = [1;2]',\n",
       " 'nscanimage.SI.hChannels.channelsAvailable = 2',\n",
       " 'nscanimage.SI.hChannels.loggingEnable = 1',\n",
       " 'nscanimage.SI.hChannels.logicalChannelInputRange = {}',\n",
       " 'nscanimage.SI.hChannels.logicalChannelOffset = zeros(1,0)',\n",
       " 'nscanimage.SI.hChannels.logicalChannelSubtractOffset = zeros(1,0)',\n",
       " 'nscanimage.SI.hConfigurationSaver.active = false',\n",
       " \"nscanimage.SI.hConfigurationSaver.cfgFilename = 'C:\",\n",
       " '',\n",
       " 'LocalData',\n",
       " '',\n",
       " 'ScanImageConfig',\n",
       " '',\n",
       " \"enieh_2016.cfg'\",\n",
       " 'nscanimage.SI.hConfigurationSaver.cfgLoadingInProgress = false',\n",
       " 'nscanimage.SI.hConfigurationSaver.fastCfgAutoStartTf = [false;false;false;false;false;false]',\n",
       " 'nscanimage.SI.hConfigurationSaver.fastCfgAutoStartType = {[];[];[];[];[];[]}',\n",
       " \"nscanimage.SI.hConfigurationSaver.fastCfgCfgFilenames = {'';'';'';'';'';''}\",\n",
       " \"nscanimage.SI.hConfigurationSaver.usrCfgFileVarName = 'scanimage_components_ConfigurationSaver__configFileName'\",\n",
       " \"nscanimage.SI.hConfigurationSaver.usrFilename = 'C:\",\n",
       " '',\n",
       " 'LocalData',\n",
       " '',\n",
       " 'ScanImageConfig',\n",
       " '',\n",
       " \"enieh_2016.usr'\",\n",
       " 'nscanimage.SI.hConfigurationSaver.usrLoadingInProgress = false',\n",
       " 'nscanimage.SI.hCycleManager.active = false',\n",
       " 'nscanimage.SI.hCycleManager.cycleIdxDone = 0',\n",
       " 'nscanimage.SI.hCycleManager.cycleIdxTotal = 1',\n",
       " 'nscanimage.SI.hCycleManager.cycleIterIdxDone = 0',\n",
       " 'nscanimage.SI.hCycleManager.cycleIterIdxTotal = 0',\n",
       " 'nscanimage.SI.hCycleManager.enabled = false',\n",
       " 'nscanimage.SI.hDisplay.active = false',\n",
       " 'nscanimage.SI.hDisplay.channelsMergeEnable = false',\n",
       " 'nscanimage.SI.hDisplay.channelsMergeFocusOnly = false',\n",
       " 'nscanimage.SI.hDisplay.displayFrameBatchFactor = 1',\n",
       " 'nscanimage.SI.hDisplay.displayFrameBatchFactorLock = false',\n",
       " 'nscanimage.SI.hDisplay.displayFrameBatchSelectAll = true',\n",
       " 'nscanimage.SI.hDisplay.displayFrameBatchSelectLast = false',\n",
       " 'nscanimage.SI.hDisplay.displayFrameBatchSelection = 1',\n",
       " 'nscanimage.SI.hDisplay.displayRollingAverageFactor = 5',\n",
       " 'nscanimage.SI.hDisplay.displayRollingAverageFactorLock = false',\n",
       " 'nscanimage.SI.hDisplay.displayTiling = true',\n",
       " 'nscanimage.SI.hDisplay.displayVolumeLock = 0',\n",
       " \"nscanimage.SI.hDisplay.renderer = 'auto'\",\n",
       " 'nscanimage.SI.hFastZ.acquisitionDelay = 0',\n",
       " 'nscanimage.SI.hFastZ.active = false',\n",
       " 'nscanimage.SI.hFastZ.discardFlybackFrames = false',\n",
       " 'nscanimage.SI.hFastZ.enable = false',\n",
       " 'nscanimage.SI.hFastZ.extFrameClockTerminal = []',\n",
       " 'nscanimage.SI.hFastZ.fillFraction = []',\n",
       " 'nscanimage.SI.hFastZ.homePosition = []',\n",
       " 'nscanimage.SI.hFastZ.numDiscardFlybackFrames = 0',\n",
       " 'nscanimage.SI.hFastZ.numFramesPerVolume = []',\n",
       " 'nscanimage.SI.hFastZ.numVolumes = 1',\n",
       " 'nscanimage.SI.hFastZ.period = []',\n",
       " 'nscanimage.SI.hFastZ.positionAbsolute = NaN',\n",
       " 'nscanimage.SI.hFastZ.positionTarget = NaN',\n",
       " 'nscanimage.SI.hFastZ.secondMotor = false',\n",
       " 'nscanimage.SI.hFastZ.settlingTime = 0',\n",
       " 'nscanimage.SI.hFastZ.useArbitraryZs = false',\n",
       " 'nscanimage.SI.hFastZ.userZs = 0',\n",
       " 'nscanimage.SI.hFastZ.volumePeriodAdjustment = 0',\n",
       " \"nscanimage.SI.hFastZ.waveformType = 'sawtooth'\",\n",
       " 'nscanimage.SI.hMotors.active = false',\n",
       " \"nscanimage.SI.hMotors.motorDimensionConfiguration = 'error'\",\n",
       " 'nscanimage.SI.hMotors.motorFastMotionThreshold = 100',\n",
       " 'nscanimage.SI.hMotors.motorMoveTimeout = 5',\n",
       " 'nscanimage.SI.hMotors.motorPosition = []',\n",
       " 'nscanimage.SI.hMotors.motorSecondMotorZEnable = false',\n",
       " 'nscanimage.SI.hMotors.userDefinedPositions = <nonscalar struct/object>',\n",
       " 'nscanimage.SI.hPmts.active = false',\n",
       " 'nscanimage.SI.hPmts.gains = []',\n",
       " 'nscanimage.SI.hPmts.names = []',\n",
       " 'nscanimage.SI.hPmts.powersOn = []',\n",
       " 'nscanimage.SI.hPmts.tripped = []',\n",
       " 'nscanimage.SI.hRoiManager.active = true',\n",
       " 'nscanimage.SI.hRoiManager.forceSquarePixelation = 0',\n",
       " 'nscanimage.SI.hRoiManager.forceSquarePixels = true',\n",
       " 'nscanimage.SI.hRoiManager.linePeriod = 6.30924e-05',\n",
       " 'nscanimage.SI.hRoiManager.linesPerFrame = 512',\n",
       " 'nscanimage.SI.hRoiManager.pixelsPerLine = 512',\n",
       " 'nscanimage.SI.hRoiManager.scanAngleMultiplierFast = 1',\n",
       " 'nscanimage.SI.hRoiManager.scanAngleMultiplierSlow = 1',\n",
       " 'nscanimage.SI.hRoiManager.scanAngleShiftFast = 0',\n",
       " 'nscanimage.SI.hRoiManager.scanAngleShiftSlow = 0',\n",
       " 'nscanimage.SI.hRoiManager.scanFramePeriod = 0.034705',\n",
       " 'nscanimage.SI.hRoiManager.scanFrameRate = 28.8143',\n",
       " 'nscanimage.SI.hRoiManager.scanRotation = 0',\n",
       " 'nscanimage.SI.hRoiManager.scanVolumeRate = 28.8143',\n",
       " 'nscanimage.SI.hRoiManager.scanZoomFactor = 2.4',\n",
       " 'nscanimage.SI.hScan2D.active = false',\n",
       " 'nscanimage.SI.hScan2D.beamClockDelay = 2',\n",
       " 'nscanimage.SI.hScan2D.beamClockExtend = 0',\n",
       " 'nscanimage.SI.hScan2D.bidirectional = true',\n",
       " 'nscanimage.SI.hScan2D.channelOffsets = [-292 -283]',\n",
       " 'nscanimage.SI.hScan2D.channels = {}',\n",
       " 'nscanimage.SI.hScan2D.channelsAdcResolution = 14',\n",
       " 'nscanimage.SI.hScan2D.channelsAutoReadOffsets = true',\n",
       " 'nscanimage.SI.hScan2D.channelsAvailable = 2',\n",
       " 'nscanimage.SI.hScan2D.channelsAvailableInputRanges = {[-1 1] [-0.5 0.5] [-0.25 0.25]}',\n",
       " \"nscanimage.SI.hScan2D.channelsDataType = 'int16'\",\n",
       " \"nscanimage.SI.hScan2D.channelsFilter = 'Bessel'\",\n",
       " 'nscanimage.SI.hScan2D.channelsInputRanges = {[-0.25 0.25] [-0.25 0.25]}',\n",
       " 'nscanimage.SI.hScan2D.channelsSubtractOffsets = [false false]',\n",
       " 'nscanimage.SI.hScan2D.fillFractionSpatial = 0.9',\n",
       " 'nscanimage.SI.hScan2D.fillFractionTemporal = 0.712867',\n",
       " 'nscanimage.SI.hScan2D.flybackTimePerFrame = 0.00239751',\n",
       " 'nscanimage.SI.hScan2D.flytoTimePerScanfield = 0.00239751',\n",
       " 'nscanimage.SI.hScan2D.keepResonantScannerOn = 1',\n",
       " 'nscanimage.SI.hScan2D.linePhase = -2.075e-06',\n",
       " \"nscanimage.SI.hScan2D.linePhaseMode = 'Nearest Neighbor'\",\n",
       " 'nscanimage.SI.hScan2D.logAverageFactor = 1',\n",
       " 'nscanimage.SI.hScan2D.logFramesPerFile = 3000',\n",
       " 'nscanimage.SI.hScan2D.logFramesPerFileLock = false',\n",
       " 'nscanimage.SI.hScan2D.maxSampleRate = 8e+07',\n",
       " \"nscanimage.SI.hScan2D.name = 'ResScanner'\",\n",
       " 'nscanimage.SI.hScan2D.pixelBinFactor = NaN',\n",
       " 'nscanimage.SI.hScan2D.resonantLimitedFovMode = true',\n",
       " 'nscanimage.SI.hScan2D.sampleRate = 8e+07',\n",
       " 'nscanimage.SI.hScan2D.scanPixelTimeMaxMinRatio = 2.6',\n",
       " 'nscanimage.SI.hScan2D.scanPixelTimeMean = 8.81348e-08',\n",
       " 'nscanimage.SI.hScan2D.scannerFrequency = 7924.89',\n",
       " 'nscanimage.SI.hScan2D.scannerToRefTransform = [1 0 0;0 1 0;0 0 1]',\n",
       " \"nscanimage.SI.hScan2D.scannerType = 'Resonant'\",\n",
       " 'nscanimage.SI.hScan2D.settleTimeFraction = 0',\n",
       " 'nscanimage.SI.hScan2D.simulated = false',\n",
       " \"nscanimage.SI.hScan2D.trigAcqEdge = 'rising'\",\n",
       " \"nscanimage.SI.hScan2D.trigAcqInTerm = ''\",\n",
       " \"nscanimage.SI.hScan2D.trigNextEdge = 'rising'\",\n",
       " \"nscanimage.SI.hScan2D.trigNextInTerm = ''\",\n",
       " 'nscanimage.SI.hScan2D.trigNextStopEnable = true',\n",
       " \"nscanimage.SI.hScan2D.trigStopEdge = 'rising'\",\n",
       " \"nscanimage.SI.hScan2D.trigStopInTerm = ''\",\n",
       " 'nscanimage.SI.hScan2D.useNonlinearResonantFov2VoltsCurve = false',\n",
       " 'nscanimage.SI.hShutters.active = false',\n",
       " 'nscanimage.SI.hStackManager.active = false',\n",
       " 'nscanimage.SI.hStackManager.framesPerSlice = 1e+11',\n",
       " 'nscanimage.SI.hStackManager.numSlices = 1',\n",
       " 'nscanimage.SI.hStackManager.slicesPerAcq = 1',\n",
       " 'nscanimage.SI.hStackManager.stackReturnHome = true',\n",
       " 'nscanimage.SI.hStackManager.stackSlicesDone = 0',\n",
       " 'nscanimage.SI.hStackManager.stackStartCentered = 1',\n",
       " 'nscanimage.SI.hStackManager.stackZEndPos = NaN',\n",
       " 'nscanimage.SI.hStackManager.stackZStartPos = NaN',\n",
       " 'nscanimage.SI.hStackManager.stackZStepSize = NaN',\n",
       " 'nscanimage.SI.hStackManager.stageDependentZs = false',\n",
       " 'nscanimage.SI.hStackManager.zs = 0',\n",
       " 'nscanimage.SI.hUserFunctions.active = false',\n",
       " 'nscanimage.SI.hUserFunctions.userFunctionsCfg = <nonscalar struct/object>',\n",
       " 'nscanimage.SI.hUserFunctions.userFunctionsOverride = <nonscalar struct/object>',\n",
       " 'nscanimage.SI.hUserFunctions.userFunctionsUsr = <nonscalar struct/object>',\n",
       " 'nscanimage.SI.hWSConnector.active = false',\n",
       " 'nscanimage.SI.hWSConnector.enable = false',\n",
       " \"nscanimage.SI.imagingSystem = 'ResScanner'\",\n",
       " 'nscanimage.SI.loopAcqCounter = 0',\n",
       " 'nscanimage.SI.loopAcqInterval = 10',\n",
       " 'nscanimage.SI.overvoltageStatus = false',\n",
       " 'nscanimage.SI.scanFramesStarted = 0',\n",
       " 'nscanimage.SI.secondsCounter = 0',\n",
       " 'n                                                                                                                                                                                                                                                                                                                                                                                                                                                                                                                                     \"']"
      ]
     },
     "execution_count": 28,
     "metadata": {},
     "output_type": "execute_result"
    }
   ],
   "source": [
    "fields"
   ]
  },
  {
   "cell_type": "code",
   "execution_count": 74,
   "metadata": {},
   "outputs": [],
   "source": [
    "fields_dict = dict()"
   ]
  },
  {
   "cell_type": "code",
   "execution_count": 75,
   "metadata": {},
   "outputs": [],
   "source": [
    "for field in fields:\n",
    "    f = field.replace('\"', '')\n",
    "    if re.search(' = ', f):\n",
    "        statement = re.split(' = ', f)\n",
    "        fields_dict[statement[0]] = statement[1]"
   ]
  },
  {
   "cell_type": "code",
   "execution_count": 80,
   "metadata": {},
   "outputs": [],
   "source": [
    "f = fields_dict['nscanimage.SI.hChannels.channelsActive']"
   ]
  },
  {
   "cell_type": "code",
   "execution_count": 78,
   "metadata": {},
   "outputs": [
    {
     "data": {
      "text/plain": [
       "42001"
      ]
     },
     "execution_count": 78,
     "metadata": {},
     "output_type": "execute_result"
    }
   ],
   "source": [
    "int(f)"
   ]
  },
  {
   "cell_type": "code",
   "execution_count": 81,
   "metadata": {},
   "outputs": [],
   "source": [
    "t = f.replace(' ', '').replace('[', '').replace(']', '')\n"
   ]
  },
  {
   "cell_type": "code",
   "execution_count": 82,
   "metadata": {},
   "outputs": [
    {
     "data": {
      "text/plain": [
       "'1;2'"
      ]
     },
     "execution_count": 82,
     "metadata": {},
     "output_type": "execute_result"
    }
   ],
   "source": [
    "t"
   ]
  },
  {
   "cell_type": "code",
   "execution_count": 83,
   "metadata": {},
   "outputs": [],
   "source": [
    "channels = t.split(';')"
   ]
  },
  {
   "cell_type": "code",
   "execution_count": 84,
   "metadata": {},
   "outputs": [
    {
     "data": {
      "text/plain": [
       "['1', '2']"
      ]
     },
     "execution_count": 84,
     "metadata": {},
     "output_type": "execute_result"
    }
   ],
   "source": [
    "channels"
   ]
  },
  {
   "cell_type": "code",
   "execution_count": 72,
   "metadata": {},
   "outputs": [],
   "source": [
    "channels = [c for c in channels if c]"
   ]
  },
  {
   "cell_type": "code",
   "execution_count": 73,
   "metadata": {},
   "outputs": [
    {
     "data": {
      "text/plain": [
       "['Channel1', 'Channel2']"
      ]
     },
     "execution_count": 73,
     "metadata": {},
     "output_type": "execute_result"
    }
   ],
   "source": [
    "channels"
   ]
  },
  {
   "cell_type": "code",
   "execution_count": 38,
   "metadata": {},
   "outputs": [
    {
     "data": {
      "text/plain": [
       "{'frameNumbers': '42001',\n",
       " 'nacquisitionNumbers': '1',\n",
       " 'nframeNumberAcquisition': '42001',\n",
       " 'nframeTimestamps_sec': '1457.335632000',\n",
       " 'nacqTriggerTimestamps_sec': '-0.000025625',\n",
       " 'nnextFileMarkerTimestamps_sec': '-1.000000000',\n",
       " 'nendOfAcquisition': '0',\n",
       " 'nendOfAcquisitionMode': '0',\n",
       " 'ndcOverVoltage': '0',\n",
       " 'nepoch': '[2017  2  3 14 32 32.236]',\n",
       " 'nauxTrigger0': '[]',\n",
       " 'nauxTrigger1': '[]',\n",
       " 'nauxTrigger2': '[]',\n",
       " 'nauxTrigger3': '[]',\n",
       " 'nI2CData': '{{1457.342057065, [4 0 23 0 100 6 ]} {1457.354030250, [4 0 23 0 101 6 ]} {1457.366035375, [4 0 23 0 102 6 ]} }',\n",
       " 'nscanimage.SI.TIFF_FORMAT_VERSION': '1',\n",
       " 'nscanimage.SI.VERSION_MAJOR': \"'5.1'\",\n",
       " 'nscanimage.SI.VERSION_MINOR': \"'0'\",\n",
       " 'nscanimage.SI.acqInitDone': 'false',\n",
       " 'nscanimage.SI.acqState': \"'grab'\",\n",
       " 'nscanimage.SI.acqsPerLoop': '1',\n",
       " 'nscanimage.SI.active': 'false',\n",
       " 'nscanimage.SI.extTrigEnable': 'false',\n",
       " 'nscanimage.SI.focusDuration': 'Inf',\n",
       " 'nscanimage.SI.hBeams.active': 'false',\n",
       " 'nscanimage.SI.hBeams.directMode': 'false',\n",
       " 'nscanimage.SI.hBeams.enablePowerBox': 'false',\n",
       " 'nscanimage.SI.hBeams.flybackBlanking': 'true',\n",
       " 'nscanimage.SI.hBeams.interlaceDecimation': '1',\n",
       " 'nscanimage.SI.hBeams.interlaceOffset': '0',\n",
       " 'nscanimage.SI.hBeams.lengthConstants': 'Inf',\n",
       " 'nscanimage.SI.hBeams.powerBoxEndFrame': 'Inf',\n",
       " 'nscanimage.SI.hBeams.powerBoxStartFrame': '1',\n",
       " 'nscanimage.SI.hBeams.powerBoxes.rect': '[0.25 0.25 0.5 0.5]',\n",
       " 'nscanimage.SI.hBeams.powerBoxes.powers': 'NaN',\n",
       " 'nscanimage.SI.hBeams.powerBoxes.name': \"''\",\n",
       " 'nscanimage.SI.hBeams.powerBoxes.oddLines': 'true',\n",
       " 'nscanimage.SI.hBeams.powerBoxes.evenLines': 'true',\n",
       " 'nscanimage.SI.hBeams.powerLimits': '100',\n",
       " 'nscanimage.SI.hBeams.powerUnits': \"'percent'\",\n",
       " 'nscanimage.SI.hBeams.powers': '30',\n",
       " 'nscanimage.SI.hBeams.pzAdjust': 'false',\n",
       " 'nscanimage.SI.hBeams.stackEndPower': 'NaN',\n",
       " 'nscanimage.SI.hBeams.stackStartPower': 'NaN',\n",
       " 'nscanimage.SI.hBeams.stackUseStartPower': 'false',\n",
       " 'nscanimage.SI.hBeams.stackUserOverrideLz': 'false',\n",
       " 'nscanimage.SI.hChannels.active': 'false',\n",
       " 'nscanimage.SI.hChannels.channelAdcResolution': '{14 14}',\n",
       " 'nscanimage.SI.hChannels.channelAvailableInputRanges': '{[-1 1] [-0.5 0.5] [-0.25 0.25]}',\n",
       " 'nscanimage.SI.hChannels.channelDisplay': '[1;2]',\n",
       " 'nscanimage.SI.hChannels.channelDisplayFunction': \"{'displayStripe' 'displayStripe'}\",\n",
       " 'nscanimage.SI.hChannels.channelInputRange': '{[-0.25 0.25] [-0.25 0.25]}',\n",
       " 'nscanimage.SI.hChannels.channelLUT': '{[-345 1480] [-285 399]}',\n",
       " 'nscanimage.SI.hChannels.channelMergeColor': \"{'green';'red'}\",\n",
       " 'nscanimage.SI.hChannels.channelName': \"{'Channel 1' 'Channel 2'}\",\n",
       " 'nscanimage.SI.hChannels.channelOffset': '[-292 -283]',\n",
       " 'nscanimage.SI.hChannels.channelSave': '1',\n",
       " 'nscanimage.SI.hChannels.channelSubtractOffset': '[false false]',\n",
       " 'nscanimage.SI.hChannels.channelType': \"{'stripe' 'stripe'}\",\n",
       " 'nscanimage.SI.hChannels.channels': '{}',\n",
       " 'nscanimage.SI.hChannels.channelsActive': '[1;2]',\n",
       " 'nscanimage.SI.hChannels.channelsAvailable': '2',\n",
       " 'nscanimage.SI.hChannels.loggingEnable': '1',\n",
       " 'nscanimage.SI.hChannels.logicalChannelInputRange': '{}',\n",
       " 'nscanimage.SI.hChannels.logicalChannelOffset': 'zeros(1,0)',\n",
       " 'nscanimage.SI.hChannels.logicalChannelSubtractOffset': 'zeros(1,0)',\n",
       " 'nscanimage.SI.hConfigurationSaver.active': 'false',\n",
       " 'nscanimage.SI.hConfigurationSaver.cfgFilename': \"'C:\",\n",
       " 'nscanimage.SI.hConfigurationSaver.cfgLoadingInProgress': 'false',\n",
       " 'nscanimage.SI.hConfigurationSaver.fastCfgAutoStartTf': '[false;false;false;false;false;false]',\n",
       " 'nscanimage.SI.hConfigurationSaver.fastCfgAutoStartType': '{[];[];[];[];[];[]}',\n",
       " 'nscanimage.SI.hConfigurationSaver.fastCfgCfgFilenames': \"{'';'';'';'';'';''}\",\n",
       " 'nscanimage.SI.hConfigurationSaver.usrCfgFileVarName': \"'scanimage_components_ConfigurationSaver__configFileName'\",\n",
       " 'nscanimage.SI.hConfigurationSaver.usrFilename': \"'C:\",\n",
       " 'nscanimage.SI.hConfigurationSaver.usrLoadingInProgress': 'false',\n",
       " 'nscanimage.SI.hCycleManager.active': 'false',\n",
       " 'nscanimage.SI.hCycleManager.cycleIdxDone': '0',\n",
       " 'nscanimage.SI.hCycleManager.cycleIdxTotal': '1',\n",
       " 'nscanimage.SI.hCycleManager.cycleIterIdxDone': '0',\n",
       " 'nscanimage.SI.hCycleManager.cycleIterIdxTotal': '0',\n",
       " 'nscanimage.SI.hCycleManager.enabled': 'false',\n",
       " 'nscanimage.SI.hDisplay.active': 'false',\n",
       " 'nscanimage.SI.hDisplay.channelsMergeEnable': 'false',\n",
       " 'nscanimage.SI.hDisplay.channelsMergeFocusOnly': 'false',\n",
       " 'nscanimage.SI.hDisplay.displayFrameBatchFactor': '1',\n",
       " 'nscanimage.SI.hDisplay.displayFrameBatchFactorLock': 'false',\n",
       " 'nscanimage.SI.hDisplay.displayFrameBatchSelectAll': 'true',\n",
       " 'nscanimage.SI.hDisplay.displayFrameBatchSelectLast': 'false',\n",
       " 'nscanimage.SI.hDisplay.displayFrameBatchSelection': '1',\n",
       " 'nscanimage.SI.hDisplay.displayRollingAverageFactor': '5',\n",
       " 'nscanimage.SI.hDisplay.displayRollingAverageFactorLock': 'false',\n",
       " 'nscanimage.SI.hDisplay.displayTiling': 'true',\n",
       " 'nscanimage.SI.hDisplay.displayVolumeLock': '0',\n",
       " 'nscanimage.SI.hDisplay.renderer': \"'auto'\",\n",
       " 'nscanimage.SI.hFastZ.acquisitionDelay': '0',\n",
       " 'nscanimage.SI.hFastZ.active': 'false',\n",
       " 'nscanimage.SI.hFastZ.discardFlybackFrames': 'false',\n",
       " 'nscanimage.SI.hFastZ.enable': 'false',\n",
       " 'nscanimage.SI.hFastZ.extFrameClockTerminal': '[]',\n",
       " 'nscanimage.SI.hFastZ.fillFraction': '[]',\n",
       " 'nscanimage.SI.hFastZ.homePosition': '[]',\n",
       " 'nscanimage.SI.hFastZ.numDiscardFlybackFrames': '0',\n",
       " 'nscanimage.SI.hFastZ.numFramesPerVolume': '[]',\n",
       " 'nscanimage.SI.hFastZ.numVolumes': '1',\n",
       " 'nscanimage.SI.hFastZ.period': '[]',\n",
       " 'nscanimage.SI.hFastZ.positionAbsolute': 'NaN',\n",
       " 'nscanimage.SI.hFastZ.positionTarget': 'NaN',\n",
       " 'nscanimage.SI.hFastZ.secondMotor': 'false',\n",
       " 'nscanimage.SI.hFastZ.settlingTime': '0',\n",
       " 'nscanimage.SI.hFastZ.useArbitraryZs': 'false',\n",
       " 'nscanimage.SI.hFastZ.userZs': '0',\n",
       " 'nscanimage.SI.hFastZ.volumePeriodAdjustment': '0',\n",
       " 'nscanimage.SI.hFastZ.waveformType': \"'sawtooth'\",\n",
       " 'nscanimage.SI.hMotors.active': 'false',\n",
       " 'nscanimage.SI.hMotors.motorDimensionConfiguration': \"'error'\",\n",
       " 'nscanimage.SI.hMotors.motorFastMotionThreshold': '100',\n",
       " 'nscanimage.SI.hMotors.motorMoveTimeout': '5',\n",
       " 'nscanimage.SI.hMotors.motorPosition': '[]',\n",
       " 'nscanimage.SI.hMotors.motorSecondMotorZEnable': 'false',\n",
       " 'nscanimage.SI.hMotors.userDefinedPositions': '<nonscalar struct/object>',\n",
       " 'nscanimage.SI.hPmts.active': 'false',\n",
       " 'nscanimage.SI.hPmts.gains': '[]',\n",
       " 'nscanimage.SI.hPmts.names': '[]',\n",
       " 'nscanimage.SI.hPmts.powersOn': '[]',\n",
       " 'nscanimage.SI.hPmts.tripped': '[]',\n",
       " 'nscanimage.SI.hRoiManager.active': 'true',\n",
       " 'nscanimage.SI.hRoiManager.forceSquarePixelation': '0',\n",
       " 'nscanimage.SI.hRoiManager.forceSquarePixels': 'true',\n",
       " 'nscanimage.SI.hRoiManager.linePeriod': '6.30924e-05',\n",
       " 'nscanimage.SI.hRoiManager.linesPerFrame': '512',\n",
       " 'nscanimage.SI.hRoiManager.pixelsPerLine': '512',\n",
       " 'nscanimage.SI.hRoiManager.scanAngleMultiplierFast': '1',\n",
       " 'nscanimage.SI.hRoiManager.scanAngleMultiplierSlow': '1',\n",
       " 'nscanimage.SI.hRoiManager.scanAngleShiftFast': '0',\n",
       " 'nscanimage.SI.hRoiManager.scanAngleShiftSlow': '0',\n",
       " 'nscanimage.SI.hRoiManager.scanFramePeriod': '0.034705',\n",
       " 'nscanimage.SI.hRoiManager.scanFrameRate': '28.8143',\n",
       " 'nscanimage.SI.hRoiManager.scanRotation': '0',\n",
       " 'nscanimage.SI.hRoiManager.scanVolumeRate': '28.8143',\n",
       " 'nscanimage.SI.hRoiManager.scanZoomFactor': '2.4',\n",
       " 'nscanimage.SI.hScan2D.active': 'false',\n",
       " 'nscanimage.SI.hScan2D.beamClockDelay': '2',\n",
       " 'nscanimage.SI.hScan2D.beamClockExtend': '0',\n",
       " 'nscanimage.SI.hScan2D.bidirectional': 'true',\n",
       " 'nscanimage.SI.hScan2D.channelOffsets': '[-292 -283]',\n",
       " 'nscanimage.SI.hScan2D.channels': '{}',\n",
       " 'nscanimage.SI.hScan2D.channelsAdcResolution': '14',\n",
       " 'nscanimage.SI.hScan2D.channelsAutoReadOffsets': 'true',\n",
       " 'nscanimage.SI.hScan2D.channelsAvailable': '2',\n",
       " 'nscanimage.SI.hScan2D.channelsAvailableInputRanges': '{[-1 1] [-0.5 0.5] [-0.25 0.25]}',\n",
       " 'nscanimage.SI.hScan2D.channelsDataType': \"'int16'\",\n",
       " 'nscanimage.SI.hScan2D.channelsFilter': \"'Bessel'\",\n",
       " 'nscanimage.SI.hScan2D.channelsInputRanges': '{[-0.25 0.25] [-0.25 0.25]}',\n",
       " 'nscanimage.SI.hScan2D.channelsSubtractOffsets': '[false false]',\n",
       " 'nscanimage.SI.hScan2D.fillFractionSpatial': '0.9',\n",
       " 'nscanimage.SI.hScan2D.fillFractionTemporal': '0.712867',\n",
       " 'nscanimage.SI.hScan2D.flybackTimePerFrame': '0.00239751',\n",
       " 'nscanimage.SI.hScan2D.flytoTimePerScanfield': '0.00239751',\n",
       " 'nscanimage.SI.hScan2D.keepResonantScannerOn': '1',\n",
       " 'nscanimage.SI.hScan2D.linePhase': '-2.075e-06',\n",
       " 'nscanimage.SI.hScan2D.linePhaseMode': \"'Nearest Neighbor'\",\n",
       " 'nscanimage.SI.hScan2D.logAverageFactor': '1',\n",
       " 'nscanimage.SI.hScan2D.logFramesPerFile': '3000',\n",
       " 'nscanimage.SI.hScan2D.logFramesPerFileLock': 'false',\n",
       " 'nscanimage.SI.hScan2D.maxSampleRate': '8e+07',\n",
       " 'nscanimage.SI.hScan2D.name': \"'ResScanner'\",\n",
       " 'nscanimage.SI.hScan2D.pixelBinFactor': 'NaN',\n",
       " 'nscanimage.SI.hScan2D.resonantLimitedFovMode': 'true',\n",
       " 'nscanimage.SI.hScan2D.sampleRate': '8e+07',\n",
       " 'nscanimage.SI.hScan2D.scanPixelTimeMaxMinRatio': '2.6',\n",
       " 'nscanimage.SI.hScan2D.scanPixelTimeMean': '8.81348e-08',\n",
       " 'nscanimage.SI.hScan2D.scannerFrequency': '7924.89',\n",
       " 'nscanimage.SI.hScan2D.scannerToRefTransform': '[1 0 0;0 1 0;0 0 1]',\n",
       " 'nscanimage.SI.hScan2D.scannerType': \"'Resonant'\",\n",
       " 'nscanimage.SI.hScan2D.settleTimeFraction': '0',\n",
       " 'nscanimage.SI.hScan2D.simulated': 'false',\n",
       " 'nscanimage.SI.hScan2D.trigAcqEdge': \"'rising'\",\n",
       " 'nscanimage.SI.hScan2D.trigAcqInTerm': \"''\",\n",
       " 'nscanimage.SI.hScan2D.trigNextEdge': \"'rising'\",\n",
       " 'nscanimage.SI.hScan2D.trigNextInTerm': \"''\",\n",
       " 'nscanimage.SI.hScan2D.trigNextStopEnable': 'true',\n",
       " 'nscanimage.SI.hScan2D.trigStopEdge': \"'rising'\",\n",
       " 'nscanimage.SI.hScan2D.trigStopInTerm': \"''\",\n",
       " 'nscanimage.SI.hScan2D.useNonlinearResonantFov2VoltsCurve': 'false',\n",
       " 'nscanimage.SI.hShutters.active': 'false',\n",
       " 'nscanimage.SI.hStackManager.active': 'false',\n",
       " 'nscanimage.SI.hStackManager.framesPerSlice': '1e+11',\n",
       " 'nscanimage.SI.hStackManager.numSlices': '1',\n",
       " 'nscanimage.SI.hStackManager.slicesPerAcq': '1',\n",
       " 'nscanimage.SI.hStackManager.stackReturnHome': 'true',\n",
       " 'nscanimage.SI.hStackManager.stackSlicesDone': '0',\n",
       " 'nscanimage.SI.hStackManager.stackStartCentered': '1',\n",
       " 'nscanimage.SI.hStackManager.stackZEndPos': 'NaN',\n",
       " 'nscanimage.SI.hStackManager.stackZStartPos': 'NaN',\n",
       " 'nscanimage.SI.hStackManager.stackZStepSize': 'NaN',\n",
       " 'nscanimage.SI.hStackManager.stageDependentZs': 'false',\n",
       " 'nscanimage.SI.hStackManager.zs': '0',\n",
       " 'nscanimage.SI.hUserFunctions.active': 'false',\n",
       " 'nscanimage.SI.hUserFunctions.userFunctionsCfg': '<nonscalar struct/object>',\n",
       " 'nscanimage.SI.hUserFunctions.userFunctionsOverride': '<nonscalar struct/object>',\n",
       " 'nscanimage.SI.hUserFunctions.userFunctionsUsr': '<nonscalar struct/object>',\n",
       " 'nscanimage.SI.hWSConnector.active': 'false',\n",
       " 'nscanimage.SI.hWSConnector.enable': 'false',\n",
       " 'nscanimage.SI.imagingSystem': \"'ResScanner'\",\n",
       " 'nscanimage.SI.loopAcqCounter': '0',\n",
       " 'nscanimage.SI.loopAcqInterval': '10',\n",
       " 'nscanimage.SI.overvoltageStatus': 'false',\n",
       " 'nscanimage.SI.scanFramesStarted': '0',\n",
       " 'nscanimage.SI.secondsCounter': '0'}"
      ]
     },
     "execution_count": 38,
     "metadata": {},
     "output_type": "execute_result"
    }
   ],
   "source": [
    "field_dict"
   ]
  },
  {
   "cell_type": "code",
   "execution_count": 2,
   "metadata": {},
   "outputs": [
    {
     "data": {
      "text/plain": [
       "[[1, 2, 3], [4, 5, 6]]"
      ]
     },
     "execution_count": 2,
     "metadata": {},
     "output_type": "execute_result"
    }
   ],
   "source": [
    "x"
   ]
  },
  {
   "cell_type": "code",
   "execution_count": 3,
   "metadata": {},
   "outputs": [],
   "source": [
    "import numpy as np"
   ]
  },
  {
   "cell_type": "code",
   "execution_count": 11,
   "metadata": {},
   "outputs": [],
   "source": [
    "y = np.array(x)"
   ]
  },
  {
   "cell_type": "code",
   "execution_count": 13,
   "metadata": {},
   "outputs": [
    {
     "data": {
      "text/plain": [
       "array([[1, 2, 3],\n",
       "       [4, 5, 6]])"
      ]
     },
     "execution_count": 13,
     "metadata": {},
     "output_type": "execute_result"
    }
   ],
   "source": [
    "y"
   ]
  },
  {
   "cell_type": "code",
   "execution_count": 8,
   "metadata": {},
   "outputs": [],
   "source": [
    "z = np.asarray([])"
   ]
  },
  {
   "cell_type": "code",
   "execution_count": null,
   "metadata": {},
   "outputs": [],
   "source": []
  }
 ],
 "metadata": {
  "kernelspec": {
   "display_name": "Python 3",
   "language": "python",
   "name": "python3"
  },
  "language_info": {
   "codemirror_mode": {
    "name": "ipython",
    "version": 3
   },
   "file_extension": ".py",
   "mimetype": "text/x-python",
   "name": "python",
   "nbconvert_exporter": "python",
   "pygments_lexer": "ipython3",
   "version": "3.7.3"
  }
 },
 "nbformat": 4,
 "nbformat_minor": 2
}
