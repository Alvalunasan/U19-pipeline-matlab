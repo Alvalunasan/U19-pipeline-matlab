{
 "cells": [
  {
   "cell_type": "markdown",
   "metadata": {},
   "source": [
    "First, establish an ssh tunnel [with your PNI password] to jtb3-dev.princeton.edu to make the database available to you:\n",
    "\n",
    "    ssh username@jtb3-dev.princeton.edu -L 3306:127.0.0.1:3306 -N\n",
    "\n",
    "jtb3-dev is the database server on which all behavior and mouse data is stored. Second, make sure you have installed datajoint >= '0.12.dev3'\n",
    "[ pip install datajoint==0.12.dev3 ]"
   ]
  },
  {
   "cell_type": "code",
   "execution_count": null,
   "metadata": {},
   "outputs": [],
   "source": [
    "import pylab as pl\n",
    "import datajoint as dj\n",
    "import numpy as np\n",
    "dj.__version__"
   ]
  },
  {
   "cell_type": "markdown",
   "metadata": {},
   "source": [
    "# Work with tables directly"
   ]
  },
  {
   "cell_type": "code",
   "execution_count": null,
   "metadata": {},
   "outputs": [],
   "source": [
    "#Overview across database schemas\n",
    "dj.list_schemas()"
   ]
  },
  {
   "cell_type": "code",
   "execution_count": null,
   "metadata": {},
   "outputs": [],
   "source": [
    "#Single entity relationship diagram. This is how the data is organized\n",
    "acqu = dj.schema('pni_acquisition')\n",
    "subj = dj.schema('pni_subject')\n",
    "lab = dj.schema('pni_lab')\n",
    "\n",
    "dj.ERD(subj)"
   ]
  },
  {
   "cell_type": "markdown",
   "metadata": {},
   "source": [
    "# Reconstruct classes from the database directly"
   ]
  },
  {
   "cell_type": "code",
   "execution_count": null,
   "metadata": {},
   "outputs": [],
   "source": [
    "acquisition = dj.create_virtual_module('acquisition', 'pni_acquisition')\n",
    "subject = dj.create_virtual_module('subject', 'pni_subject')\n",
    "action = dj.create_virtual_module('action', 'pni_action')"
   ]
  },
  {
   "cell_type": "markdown",
   "metadata": {},
   "source": [
    "Now let's have some serious fun with the database, with some queries"
   ]
  },
  {
   "cell_type": "code",
   "execution_count": null,
   "metadata": {},
   "outputs": [],
   "source": [
    "# Very fat mice\n",
    "subject.Subject() & 'initial_weight > 35'"
   ]
  },
  {
   "cell_type": "code",
   "execution_count": null,
   "metadata": {},
   "outputs": [],
   "source": [
    "subject.Subject() & 'dob between \"2019-01-01\" and \"2019-03-01\"' & 'initial_weight > 15'"
   ]
  },
  {
   "cell_type": "code",
   "execution_count": null,
   "metadata": {},
   "outputs": [],
   "source": [
    "# On which days of week does people like to work harder?\n",
    "Session = acquisition.Session();\n",
    "for day in range(7):\n",
    "    print( len( Session & 'WEEKDAY(session_date) = ' + str(day) ))"
   ]
  },
  {
   "cell_type": "markdown",
   "metadata": {},
   "source": [
    "# Do fatter mice do better?"
   ]
  },
  {
   "cell_type": "code",
   "execution_count": null,
   "metadata": {},
   "outputs": [],
   "source": [
    "# grab a mouse first\n",
    "subj = subject.Subject & 'subject_id=\"E47\"'"
   ]
  },
  {
   "cell_type": "code",
   "execution_count": null,
   "metadata": {},
   "outputs": [],
   "source": [
    "# some magic to get weight on the date of each session\n",
    "weight_with_date = action.Weighing.proj('weight', session_date=\"DATE(weighing_time)\")\n",
    "weight_with_date"
   ]
  },
  {
   "cell_type": "code",
   "execution_count": null,
   "metadata": {},
   "outputs": [],
   "source": [
    "# promote the session_date to primary key with dj.U()\n",
    "weight_with_date = dj.U('user_id', 'subject_id', 'session_date') * weight_with_date"
   ]
  },
  {
   "cell_type": "code",
   "execution_count": null,
   "metadata": {},
   "outputs": [],
   "source": [
    "# join weight_with_date and session to get both information\n",
    "query = weight_with_date * acquisition.Session"
   ]
  },
  {
   "cell_type": "code",
   "execution_count": null,
   "metadata": {},
   "outputs": [],
   "source": [
    "weight, performance = (query & 'subject_id = \"E47\"').fetch('weight','session_performance')\n",
    "pl.scatter(weight, performance)\n",
    "pl.xlabel('bodyweight [g]')\n",
    "pl.ylabel('performance')"
   ]
  },
  {
   "cell_type": "markdown",
   "metadata": {},
   "source": [
    "## Are performance and weight gender dependent?"
   ]
  },
  {
   "cell_type": "code",
   "execution_count": null,
   "metadata": {},
   "outputs": [],
   "source": [
    "subjects"
   ]
  },
  {
   "cell_type": "code",
   "execution_count": null,
   "metadata": {},
   "outputs": [],
   "source": [
    "subjects = subject.Subject.proj('sex') & query & 'user_id = \"edward\"'\n",
    "corrs = []\n",
    "for s in subjects:\n",
    "    # fetch all related info: weight, performance and sex\n",
    "    sex, weight, performance = (subject.Subject.proj('sex') * query & s).fetch('sex', 'weight','session_performance')\n",
    "    \n",
    "    weight = weight[performance > 0]\n",
    "    performance = performance[performance > 0]\n",
    "    if sex[0] == 'Male':\n",
    "        pl.scatter(weight, performance, c=[[0, 0, 1]])\n",
    "    else: \n",
    "        pl.scatter(weight, performance, c=[[1, 0, 0]])\n",
    "    corrs.append(np.corrcoef(weight, performance)[0, 1])\n",
    "    \n",
    "pl.xlim([19, 27])\n",
    "pl.xlabel('bodyweight [g]')\n",
    "pl.ylabel('performance')"
   ]
  },
  {
   "cell_type": "code",
   "execution_count": null,
   "metadata": {},
   "outputs": [],
   "source": [
    "subjects = (subject.Subject() & 'sex = \"Male\"' & 'user_id = \"edward\"' ).fetch('KEY')\n",
    "boymean = np.mean((Session & subjects).fetch('session_performance'))\n",
    "subjects = (subject.Subject() & 'sex = \"Female\"' & 'user_id = \"edward\"' ).fetch('KEY')\n",
    "girlmean = np.mean((Session & subjects).fetch('session_performance'))\n",
    "print(boymean)\n",
    "print(girlmean)"
   ]
  },
  {
   "cell_type": "code",
   "execution_count": null,
   "metadata": {},
   "outputs": [],
   "source": [
    "pl.hist(corrs,np.arange(-1,1,0.1))\n",
    "print(np.mean(corrs))\n",
    "print(np.std(corrs)/np.sqrt(len(corrs)))"
   ]
  },
  {
   "cell_type": "markdown",
   "metadata": {},
   "source": [
    "# Compute trial numbers for all sessions of a mouse"
   ]
  },
  {
   "cell_type": "code",
   "execution_count": null,
   "metadata": {},
   "outputs": [],
   "source": [
    "sessions = acquisition.Session & 'subject_id = \"E39\"' & 'session_date > \"2017-10-21\"'\n",
    "sessions"
   ]
  },
  {
   "cell_type": "code",
   "execution_count": null,
   "metadata": {},
   "outputs": [],
   "source": [
    "trials_subset = acquisition.TowersBlock.Trial & sessions\n",
    "acquisition.Session.aggr(trials_subset, n='count(*)')"
   ]
  },
  {
   "cell_type": "markdown",
   "metadata": {},
   "source": [
    "# Visualize all trials for a session"
   ]
  },
  {
   "cell_type": "code",
   "execution_count": null,
   "metadata": {},
   "outputs": [],
   "source": [
    "pos, time = trials_subset.fetch('position', 'trial_time')"
   ]
  },
  {
   "cell_type": "code",
   "execution_count": null,
   "metadata": {},
   "outputs": [],
   "source": [
    "for trial_idx in range(len(pos)):\n",
    "    N_samples = len(pos[trial_idx])\n",
    "    pl.plot(time[trial_idx][0:N_samples], pos[trial_idx][:,1])\n",
    "pl.xlabel('Time [s]');\n",
    "pl.ylabel('position [cm]');"
   ]
  },
  {
   "cell_type": "code",
   "execution_count": null,
   "metadata": {},
   "outputs": [],
   "source": []
  }
 ],
 "metadata": {
  "kernelspec": {
   "display_name": "Python 3",
   "language": "python",
   "name": "python3"
  },
  "language_info": {
   "codemirror_mode": {
    "name": "ipython",
    "version": 3
   },
   "file_extension": ".py",
   "mimetype": "text/x-python",
   "name": "python",
   "nbconvert_exporter": "python",
   "pygments_lexer": "ipython3",
   "version": "3.7.3"
  }
 },
 "nbformat": 4,
 "nbformat_minor": 2
}
